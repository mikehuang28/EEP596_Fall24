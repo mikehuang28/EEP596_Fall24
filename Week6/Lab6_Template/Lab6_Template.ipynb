{
 "cells": [
  {
   "cell_type": "markdown",
   "id": "7f1be33f",
   "metadata": {},
   "source": [
    "# Lab 6 Report: \n",
    "## Stock Prediction AI with Encoder-Decoder RNN"
   ]
  },
  {
   "cell_type": "markdown",
   "id": "bf02d733",
   "metadata": {},
   "source": [
    "### Name:"
   ]
  },
  {
   "cell_type": "code",
   "execution_count": null,
   "id": "9632cfb8",
   "metadata": {},
   "outputs": [],
   "source": [
    "%matplotlib inline\n",
    "\n",
    "import numpy as np\n",
    "import matplotlib.pyplot as plt\n",
    "import torch\n",
    "import pandas as pd\n",
    "import seaborn as sns"
   ]
  },
  {
   "cell_type": "code",
   "execution_count": null,
   "id": "7a175cb4",
   "metadata": {},
   "outputs": [],
   "source": [
    "from IPython.display import Image # For displaying images in colab jupyter cell"
   ]
  },
  {
   "cell_type": "code",
   "execution_count": null,
   "id": "f6cf135d",
   "metadata": {},
   "outputs": [],
   "source": [
    "Image('lab6_exercise.png', width = 1000)"
   ]
  },
  {
   "cell_type": "code",
   "execution_count": null,
   "id": "177bd488",
   "metadata": {},
   "outputs": [],
   "source": [
    "# Seaborn plot styling\n",
    "sns.set(style = 'white', font_scale = 2)"
   ]
  },
  {
   "cell_type": "markdown",
   "id": "855b4738",
   "metadata": {},
   "source": [
    "## Prepare Data"
   ]
  },
  {
   "cell_type": "code",
   "execution_count": null,
   "id": "d234e0a0",
   "metadata": {},
   "outputs": [],
   "source": [
    "# Load stock datasets\n",
    "# Pick one of three to train your model \n",
    "# Use 'closing price' column for training and testing\n",
    "\n",
    "tesla = pd.read_csv('TSLA.csv') \n",
    "tesla_np = tesla.to_numpy()\n",
    "\n",
    "google = pd.read_csv('GOOGL.csv') \n",
    "google_np = google.to_numpy()\n",
    "\n",
    "dji = pd.read_csv('DJI.csv') \n",
    "dji_np = dji.to_numpy()"
   ]
  },
  {
   "cell_type": "code",
   "execution_count": null,
   "id": "bc0e21b7",
   "metadata": {},
   "outputs": [],
   "source": [
    "# Normalize your data and select training dataset (all the days except for last 100 days)\n",
    "\n",
    "# YOUR CODE HERE"
   ]
  },
  {
   "cell_type": "code",
   "execution_count": null,
   "id": "bf8c97bd",
   "metadata": {},
   "outputs": [],
   "source": [
    "# Define your encoder input sequence length, decoder output sequence length and testing sequence length\n",
    "# Construct train_input_seqs and train_output_seqs according to \n",
    "# encoder input sequence length and decoder output sequence length similar to example task\n",
    "\n",
    "# YOUR CODE HERE"
   ]
  },
  {
   "cell_type": "code",
   "execution_count": null,
   "id": "2d1a741f",
   "metadata": {},
   "outputs": [],
   "source": [
    "# Make sure train_input_seqs and train_output_seqs have correct dimensions as expected\n",
    "# (sample size, sequence length, # of features / timestep)\n",
    "\n",
    "print(\"Encoder Training Inputs Shape: \", train_input_seqs.shape)\n",
    "print(\"Decoder Training Outputs Shape: \", train_output_seqs.shape)"
   ]
  },
  {
   "cell_type": "markdown",
   "id": "cfda0488",
   "metadata": {},
   "source": [
    "## Define Model"
   ]
  },
  {
   "cell_type": "code",
   "execution_count": null,
   "id": "53860c5c",
   "metadata": {},
   "outputs": [],
   "source": [
    "class Encoder(torch.nn.Module):\n",
    "\n",
    "    def __init__(self, input_size, hidden_size, num_layers):\n",
    "        \n",
    "        super(Encoder, self).__init__()\n",
    "\n",
    "        # YOUR CODE HERE\n",
    "        \n",
    "    def forward(self, input_seq, hidden_state):\n",
    "        \n",
    "        # YOUR CODE HERE\n",
    "        \n",
    "        return out, hidden     \n",
    "\n",
    "class Decoder(torch.nn.Module):\n",
    "    \n",
    "    def __init__(self, input_size, hidden_size, output_size, num_layers):\n",
    "        \n",
    "        super(Decoder, self).__init__()\n",
    "\n",
    "        # YOUR CODE HERE  \n",
    "\n",
    "    def forward(self, input_seq, encoder_hidden_states):\n",
    "        \n",
    "        # YOUR CODE HERE\n",
    "        \n",
    "        return out, hidden\n",
    "\n",
    "class Encoder_Decoder(torch.nn.Module):\n",
    "    \n",
    "    def __init__(self, input_size, hidden_size, decoder_output_size, num_layers):\n",
    "\n",
    "        super(Encoder_Decoder, self).__init__()\n",
    "\n",
    "        # YOUR CODE HERE"
   ]
  },
  {
   "cell_type": "markdown",
   "id": "aac20f78",
   "metadata": {},
   "source": [
    "## Define Hyperparameters"
   ]
  },
  {
   "cell_type": "code",
   "execution_count": null,
   "id": "7badc0c7",
   "metadata": {},
   "outputs": [],
   "source": [
    "torch.manual_seed(2)\n",
    "\n",
    "Encoder_Decoder_RNN = # YOUR CODE HERE\n",
    "\n",
    "learning_rate = # YOUR CODE HERE     \n",
    "epochs = # YOUR CODE HERE\n",
    "\n",
    "batchsize = # YOUR CODE HERE\n",
    "num_features = # YOUR CODE HERE\n",
    "\n",
    "loss_func = torch.nn.MSELoss()\n",
    "optimizer = # YOUR CODE HERE\n",
    "\n",
    "Encoder_Decoder_RNN"
   ]
  },
  {
   "cell_type": "markdown",
   "id": "ff8fba0e",
   "metadata": {},
   "source": [
    "## Identify Tracked Values"
   ]
  },
  {
   "cell_type": "code",
   "execution_count": null,
   "id": "fe9c7902",
   "metadata": {},
   "outputs": [],
   "source": [
    "# YOUR CODE HERE"
   ]
  },
  {
   "cell_type": "markdown",
   "id": "c403ae44",
   "metadata": {},
   "source": [
    "## Train Model"
   ]
  },
  {
   "cell_type": "code",
   "execution_count": null,
   "id": "9eb3ffcc",
   "metadata": {},
   "outputs": [],
   "source": [
    "# Convert training data into torch tensors\n",
    "\n",
    "# YOUR CODE HERE\n",
    "\n",
    "# Split training data into mini-batches\n",
    "\n",
    "# YOUR CODE HERE\n",
    "\n",
    "# Compute total number of mini-batches in training data\n",
    "\n",
    "batch_split_num = # YOUR CODE HERE"
   ]
  },
  {
   "cell_type": "code",
   "execution_count": null,
   "id": "50ed7297",
   "metadata": {},
   "outputs": [],
   "source": [
    "for epoch in range(epochs): \n",
    "    \n",
    "    for k in range(batch_split_num): \n",
    "        \n",
    "        # YOUR CODE HERE\n",
    "    \n",
    "    print(\"Averaged Training Loss for Epoch \", epoch,\": \", np.mean(train_loss_list[-batch_split_num:]))"
   ]
  },
  {
   "cell_type": "markdown",
   "id": "e1b49cc5",
   "metadata": {},
   "source": [
    "## Visualize & Evaluate Model"
   ]
  },
  {
   "cell_type": "code",
   "execution_count": null,
   "id": "c72efa14",
   "metadata": {},
   "outputs": [],
   "source": [
    "plt.figure(figsize = (12, 7))\n",
    "\n",
    "plt.plot(np.convolve(train_loss_list, np.ones(100), 'valid') / 100, \n",
    "         linewidth = 3, label = 'Rolling Averaged Training Loss')\n",
    "plt.ylabel(\"training loss\")\n",
    "plt.xlabel(\"Iterations\")\n",
    "plt.legend()\n",
    "sns.despine()"
   ]
  },
  {
   "cell_type": "code",
   "execution_count": null,
   "id": "e882ff3a",
   "metadata": {},
   "outputs": [],
   "source": [
    "# Define your testing sequence\n",
    "\n",
    "test_input_seq = # YOUR CODE HERE"
   ]
  },
  {
   "cell_type": "code",
   "execution_count": null,
   "id": "7db5385c",
   "metadata": {},
   "outputs": [],
   "source": [
    "# We can visualize the testing sequence\n",
    "\n",
    "plt.figure(figsize = (10, 5))\n",
    "plt.plot(test_input_seq, linewidth = 3)\n",
    "plt.title('Test Sequence')\n",
    "sns.despine()"
   ]
  },
  {
   "cell_type": "markdown",
   "id": "2ac4eceb",
   "metadata": {},
   "source": [
    "### Generate signal predictions for testing sequence with trained Encoder-Decoder"
   ]
  },
  {
   "cell_type": "code",
   "execution_count": null,
   "id": "00988cea",
   "metadata": {
    "scrolled": true
   },
   "outputs": [],
   "source": [
    "# USE TEACHER FORCING METHOD WHEN GENERATING OUTPUTS FROM DECODER\n",
    "# When generating decoder outputs, make sure each input to decoder at timestep t has the shape (1,1,1)\n",
    "# i.e., num_samples = 1, sequence_len = 1, num_features = 1 \n",
    "\n",
    "# YOUR CODE HERE"
   ]
  },
  {
   "cell_type": "code",
   "execution_count": null,
   "id": "fdbccae5",
   "metadata": {},
   "outputs": [],
   "source": [
    "# Visualize predicted stock sequence vs the ground truth\n",
    "\n",
    "plt.figure(figsize = (10, 5))\n",
    "\n",
    "plt.plot(test_input_seq, linewidth = 3, label = 'GroundTruth')\n",
    "plt.plot(decoder_output_seq, linewidth = 3, label = 'RNN Predicted')\n",
    "plt.title('RNN Predicted vs GroundTruth')\n",
    "plt.legend()\n",
    "sns.despine()"
   ]
  },
  {
   "cell_type": "code",
   "execution_count": null,
   "id": "a8858706",
   "metadata": {},
   "outputs": [],
   "source": [
    "# Compute the MSE error between test_input_seq and decoder_output_seq and print the value as Test MSE Error\n",
    "\n",
    "# YOUR CODE HERE"
   ]
  }
 ],
 "metadata": {
  "kernelspec": {
   "display_name": "Python 3 (ipykernel)",
   "language": "python",
   "name": "python3"
  },
  "language_info": {
   "codemirror_mode": {
    "name": "ipython",
    "version": 3
   },
   "file_extension": ".py",
   "mimetype": "text/x-python",
   "name": "python",
   "nbconvert_exporter": "python",
   "pygments_lexer": "ipython3",
   "version": "3.12.2"
  }
 },
 "nbformat": 4,
 "nbformat_minor": 5
}
